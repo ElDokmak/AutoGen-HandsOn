{
  "nbformat": 4,
  "nbformat_minor": 0,
  "metadata": {
    "colab": {
      "provenance": []
    },
    "kernelspec": {
      "name": "python3",
      "display_name": "Python 3"
    },
    "language_info": {
      "name": "python"
    }
  },
  "cells": [
    {
      "cell_type": "code",
      "execution_count": 3,
      "metadata": {
        "colab": {
          "base_uri": "https://localhost:8080/"
        },
        "id": "qG88z1_LgoGS",
        "outputId": "5451e50b-f737-4660-e2a8-db716a6c9291"
      },
      "outputs": [
        {
          "output_type": "stream",
          "name": "stdout",
          "text": [
            "Requirement already satisfied: pyautogen in /usr/local/lib/python3.10/dist-packages (0.1.14)\n",
            "Requirement already satisfied: pymemgpt in /usr/local/lib/python3.10/dist-packages (0.2.4)\n",
            "Requirement already satisfied: openai in /usr/local/lib/python3.10/dist-packages (0.28.1)\n",
            "Requirement already satisfied: tiktoken in /usr/local/lib/python3.10/dist-packages (0.5.1)\n",
            "Requirement already satisfied: cohere in /usr/local/lib/python3.10/dist-packages (4.36)\n",
            "Requirement already satisfied: jedi in /usr/local/lib/python3.10/dist-packages (0.19.1)\n",
            "Requirement already satisfied: fastapi in /usr/local/lib/python3.10/dist-packages (0.103.2)\n",
            "Requirement already satisfied: kaleido in /usr/local/lib/python3.10/dist-packages (0.2.1)\n",
            "Requirement already satisfied: python-multipart in /usr/local/lib/python3.10/dist-packages (0.0.6)\n",
            "Requirement already satisfied: uvicorn in /usr/local/lib/python3.10/dist-packages (0.24.0.post1)\n",
            "Collecting typing-extensions<4.6.0\n",
            "  Downloading typing_extensions-4.5.0-py3-none-any.whl (27 kB)\n",
            "Requirement already satisfied: diskcache in /usr/local/lib/python3.10/dist-packages (from pyautogen) (5.6.3)\n",
            "Requirement already satisfied: flaml in /usr/local/lib/python3.10/dist-packages (from pyautogen) (2.1.1)\n",
            "Requirement already satisfied: python-dotenv in /usr/local/lib/python3.10/dist-packages (from pyautogen) (1.0.0)\n",
            "Requirement already satisfied: termcolor in /usr/local/lib/python3.10/dist-packages (from pyautogen) (2.3.0)\n",
            "Requirement already satisfied: demjson3<4.0.0,>=3.0.6 in /usr/local/lib/python3.10/dist-packages (from pymemgpt) (3.0.6)\n",
            "Requirement already satisfied: docstring-parser<0.16,>=0.15 in /usr/local/lib/python3.10/dist-packages (from pymemgpt) (0.15)\n",
            "Requirement already satisfied: llama-index<0.9.0,>=0.8.53.post3 in /usr/local/lib/python3.10/dist-packages (from pymemgpt) (0.8.62)\n",
            "Requirement already satisfied: prettytable<4.0.0,>=3.9.0 in /usr/local/lib/python3.10/dist-packages (from pymemgpt) (3.9.0)\n",
            "Requirement already satisfied: pymupdf<2.0.0,>=1.23.5 in /usr/local/lib/python3.10/dist-packages (from pymemgpt) (1.23.6)\n",
            "Requirement already satisfied: pytz<2024.0,>=2023.3.post1 in /usr/local/lib/python3.10/dist-packages (from pymemgpt) (2023.3.post1)\n",
            "Requirement already satisfied: questionary<3.0.0,>=2.0.1 in /usr/local/lib/python3.10/dist-packages (from pymemgpt) (2.0.1)\n",
            "Requirement already satisfied: setuptools<69.0.0,>=68.2.2 in /usr/local/lib/python3.10/dist-packages (from pymemgpt) (68.2.2)\n",
            "Requirement already satisfied: tqdm<5.0.0,>=4.66.1 in /usr/local/lib/python3.10/dist-packages (from pymemgpt) (4.66.1)\n",
            "Requirement already satisfied: typer[all]<0.10.0,>=0.9.0 in /usr/local/lib/python3.10/dist-packages (from pymemgpt) (0.9.0)\n",
            "Requirement already satisfied: websockets<13.0,>=12.0 in /usr/local/lib/python3.10/dist-packages (from pymemgpt) (12.0)\n",
            "Requirement already satisfied: requests>=2.20 in /usr/local/lib/python3.10/dist-packages (from openai) (2.31.0)\n",
            "Requirement already satisfied: aiohttp in /usr/local/lib/python3.10/dist-packages (from openai) (3.8.6)\n",
            "Requirement already satisfied: regex>=2022.1.18 in /usr/local/lib/python3.10/dist-packages (from tiktoken) (2023.6.3)\n",
            "Requirement already satisfied: backoff<3.0,>=2.0 in /usr/local/lib/python3.10/dist-packages (from cohere) (2.2.1)\n",
            "Requirement already satisfied: fastavro==1.8.2 in /usr/local/lib/python3.10/dist-packages (from cohere) (1.8.2)\n",
            "Requirement already satisfied: importlib_metadata<7.0,>=6.0 in /usr/local/lib/python3.10/dist-packages (from cohere) (6.8.0)\n",
            "Requirement already satisfied: urllib3<3,>=1.26 in /usr/local/lib/python3.10/dist-packages (from cohere) (1.26.18)\n",
            "Requirement already satisfied: parso<0.9.0,>=0.8.3 in /usr/local/lib/python3.10/dist-packages (from jedi) (0.8.3)\n",
            "Requirement already satisfied: anyio<4.0.0,>=3.7.1 in /usr/local/lib/python3.10/dist-packages (from fastapi) (3.7.1)\n",
            "Requirement already satisfied: pydantic!=1.8,!=1.8.1,!=2.0.0,!=2.0.1,!=2.1.0,<3.0.0,>=1.7.4 in /usr/local/lib/python3.10/dist-packages (from fastapi) (1.10.13)\n",
            "Requirement already satisfied: starlette<0.28.0,>=0.27.0 in /usr/local/lib/python3.10/dist-packages (from fastapi) (0.27.0)\n",
            "Requirement already satisfied: click>=7.0 in /usr/local/lib/python3.10/dist-packages (from uvicorn) (8.1.7)\n",
            "Requirement already satisfied: h11>=0.8 in /usr/local/lib/python3.10/dist-packages (from uvicorn) (0.14.0)\n",
            "Requirement already satisfied: attrs>=17.3.0 in /usr/local/lib/python3.10/dist-packages (from aiohttp->openai) (23.1.0)\n",
            "Requirement already satisfied: charset-normalizer<4.0,>=2.0 in /usr/local/lib/python3.10/dist-packages (from aiohttp->openai) (3.3.2)\n",
            "Requirement already satisfied: multidict<7.0,>=4.5 in /usr/local/lib/python3.10/dist-packages (from aiohttp->openai) (6.0.4)\n",
            "Requirement already satisfied: async-timeout<5.0,>=4.0.0a3 in /usr/local/lib/python3.10/dist-packages (from aiohttp->openai) (4.0.3)\n",
            "Requirement already satisfied: yarl<2.0,>=1.0 in /usr/local/lib/python3.10/dist-packages (from aiohttp->openai) (1.9.2)\n",
            "Requirement already satisfied: frozenlist>=1.1.1 in /usr/local/lib/python3.10/dist-packages (from aiohttp->openai) (1.4.0)\n",
            "Requirement already satisfied: aiosignal>=1.1.2 in /usr/local/lib/python3.10/dist-packages (from aiohttp->openai) (1.3.1)\n",
            "Requirement already satisfied: idna>=2.8 in /usr/local/lib/python3.10/dist-packages (from anyio<4.0.0,>=3.7.1->fastapi) (3.4)\n",
            "Requirement already satisfied: sniffio>=1.1 in /usr/local/lib/python3.10/dist-packages (from anyio<4.0.0,>=3.7.1->fastapi) (1.3.0)\n",
            "Requirement already satisfied: exceptiongroup in /usr/local/lib/python3.10/dist-packages (from anyio<4.0.0,>=3.7.1->fastapi) (1.1.3)\n",
            "Requirement already satisfied: zipp>=0.5 in /usr/local/lib/python3.10/dist-packages (from importlib_metadata<7.0,>=6.0->cohere) (3.17.0)\n",
            "Requirement already satisfied: SQLAlchemy[asyncio]>=1.4.49 in /usr/local/lib/python3.10/dist-packages (from llama-index<0.9.0,>=0.8.53.post3->pymemgpt) (2.0.23)\n",
            "Requirement already satisfied: aiostream<0.6.0,>=0.5.2 in /usr/local/lib/python3.10/dist-packages (from llama-index<0.9.0,>=0.8.53.post3->pymemgpt) (0.5.2)\n",
            "Requirement already satisfied: dataclasses-json<0.6.0,>=0.5.7 in /usr/local/lib/python3.10/dist-packages (from llama-index<0.9.0,>=0.8.53.post3->pymemgpt) (0.5.14)\n",
            "Requirement already satisfied: deprecated>=1.2.9.3 in /usr/local/lib/python3.10/dist-packages (from llama-index<0.9.0,>=0.8.53.post3->pymemgpt) (1.2.14)\n",
            "Requirement already satisfied: fsspec>=2023.5.0 in /usr/local/lib/python3.10/dist-packages (from llama-index<0.9.0,>=0.8.53.post3->pymemgpt) (2023.6.0)\n",
            "Requirement already satisfied: langchain>=0.0.303 in /usr/local/lib/python3.10/dist-packages (from llama-index<0.9.0,>=0.8.53.post3->pymemgpt) (0.0.340)\n",
            "Requirement already satisfied: nest-asyncio<2.0.0,>=1.5.8 in /usr/local/lib/python3.10/dist-packages (from llama-index<0.9.0,>=0.8.53.post3->pymemgpt) (1.5.8)\n",
            "Requirement already satisfied: nltk<4.0.0,>=3.8.1 in /usr/local/lib/python3.10/dist-packages (from llama-index<0.9.0,>=0.8.53.post3->pymemgpt) (3.8.1)\n",
            "Requirement already satisfied: numpy in /usr/local/lib/python3.10/dist-packages (from llama-index<0.9.0,>=0.8.53.post3->pymemgpt) (1.23.5)\n",
            "Requirement already satisfied: pandas in /usr/local/lib/python3.10/dist-packages (from llama-index<0.9.0,>=0.8.53.post3->pymemgpt) (1.5.3)\n",
            "Requirement already satisfied: tenacity<9.0.0,>=8.2.0 in /usr/local/lib/python3.10/dist-packages (from llama-index<0.9.0,>=0.8.53.post3->pymemgpt) (8.2.3)\n",
            "Requirement already satisfied: typing-inspect>=0.8.0 in /usr/local/lib/python3.10/dist-packages (from llama-index<0.9.0,>=0.8.53.post3->pymemgpt) (0.9.0)\n",
            "Requirement already satisfied: wcwidth in /usr/local/lib/python3.10/dist-packages (from prettytable<4.0.0,>=3.9.0->pymemgpt) (0.2.10)\n",
            "Requirement already satisfied: PyMuPDFb==1.23.6 in /usr/local/lib/python3.10/dist-packages (from pymupdf<2.0.0,>=1.23.5->pymemgpt) (1.23.6)\n",
            "Requirement already satisfied: prompt_toolkit<=3.0.36,>=2.0 in /usr/local/lib/python3.10/dist-packages (from questionary<3.0.0,>=2.0.1->pymemgpt) (3.0.36)\n",
            "Requirement already satisfied: certifi>=2017.4.17 in /usr/local/lib/python3.10/dist-packages (from requests>=2.20->openai) (2023.7.22)\n",
            "Requirement already satisfied: colorama<0.5.0,>=0.4.3 in /usr/local/lib/python3.10/dist-packages (from typer[all]<0.10.0,>=0.9.0->pymemgpt) (0.4.6)\n",
            "Requirement already satisfied: shellingham<2.0.0,>=1.3.0 in /usr/local/lib/python3.10/dist-packages (from typer[all]<0.10.0,>=0.9.0->pymemgpt) (1.5.4)\n",
            "Requirement already satisfied: rich<14.0.0,>=10.11.0 in /usr/local/lib/python3.10/dist-packages (from typer[all]<0.10.0,>=0.9.0->pymemgpt) (13.7.0)\n",
            "Requirement already satisfied: marshmallow<4.0.0,>=3.18.0 in /usr/local/lib/python3.10/dist-packages (from dataclasses-json<0.6.0,>=0.5.7->llama-index<0.9.0,>=0.8.53.post3->pymemgpt) (3.20.1)\n",
            "Requirement already satisfied: wrapt<2,>=1.10 in /usr/local/lib/python3.10/dist-packages (from deprecated>=1.2.9.3->llama-index<0.9.0,>=0.8.53.post3->pymemgpt) (1.14.1)\n",
            "Requirement already satisfied: PyYAML>=5.3 in /usr/local/lib/python3.10/dist-packages (from langchain>=0.0.303->llama-index<0.9.0,>=0.8.53.post3->pymemgpt) (6.0.1)\n",
            "Requirement already satisfied: jsonpatch<2.0,>=1.33 in /usr/local/lib/python3.10/dist-packages (from langchain>=0.0.303->llama-index<0.9.0,>=0.8.53.post3->pymemgpt) (1.33)\n",
            "Requirement already satisfied: langsmith<0.1.0,>=0.0.63 in /usr/local/lib/python3.10/dist-packages (from langchain>=0.0.303->llama-index<0.9.0,>=0.8.53.post3->pymemgpt) (0.0.66)\n",
            "Requirement already satisfied: joblib in /usr/local/lib/python3.10/dist-packages (from nltk<4.0.0,>=3.8.1->llama-index<0.9.0,>=0.8.53.post3->pymemgpt) (1.3.2)\n",
            "Requirement already satisfied: markdown-it-py>=2.2.0 in /usr/local/lib/python3.10/dist-packages (from rich<14.0.0,>=10.11.0->typer[all]<0.10.0,>=0.9.0->pymemgpt) (3.0.0)\n",
            "Requirement already satisfied: pygments<3.0.0,>=2.13.0 in /usr/local/lib/python3.10/dist-packages (from rich<14.0.0,>=10.11.0->typer[all]<0.10.0,>=0.9.0->pymemgpt) (2.16.1)\n",
            "Requirement already satisfied: greenlet!=0.4.17 in /usr/local/lib/python3.10/dist-packages (from SQLAlchemy[asyncio]>=1.4.49->llama-index<0.9.0,>=0.8.53.post3->pymemgpt) (3.0.1)\n",
            "Requirement already satisfied: mypy-extensions>=0.3.0 in /usr/local/lib/python3.10/dist-packages (from typing-inspect>=0.8.0->llama-index<0.9.0,>=0.8.53.post3->pymemgpt) (1.0.0)\n",
            "Requirement already satisfied: python-dateutil>=2.8.1 in /usr/local/lib/python3.10/dist-packages (from pandas->llama-index<0.9.0,>=0.8.53.post3->pymemgpt) (2.8.2)\n",
            "Requirement already satisfied: jsonpointer>=1.9 in /usr/local/lib/python3.10/dist-packages (from jsonpatch<2.0,>=1.33->langchain>=0.0.303->llama-index<0.9.0,>=0.8.53.post3->pymemgpt) (2.4)\n",
            "Requirement already satisfied: mdurl~=0.1 in /usr/local/lib/python3.10/dist-packages (from markdown-it-py>=2.2.0->rich<14.0.0,>=10.11.0->typer[all]<0.10.0,>=0.9.0->pymemgpt) (0.1.2)\n",
            "Requirement already satisfied: packaging>=17.0 in /usr/local/lib/python3.10/dist-packages (from marshmallow<4.0.0,>=3.18.0->dataclasses-json<0.6.0,>=0.5.7->llama-index<0.9.0,>=0.8.53.post3->pymemgpt) (23.2)\n",
            "Requirement already satisfied: six>=1.5 in /usr/local/lib/python3.10/dist-packages (from python-dateutil>=2.8.1->pandas->llama-index<0.9.0,>=0.8.53.post3->pymemgpt) (1.16.0)\n",
            "Installing collected packages: typing-extensions\n",
            "  Attempting uninstall: typing-extensions\n",
            "    Found existing installation: typing_extensions 4.6.3\n",
            "    Uninstalling typing_extensions-4.6.3:\n",
            "      Successfully uninstalled typing_extensions-4.6.3\n",
            "Successfully installed typing-extensions-4.5.0\n"
          ]
        }
      ],
      "source": [
        "!pip install pyautogen pymemgpt openai tiktoken cohere jedi fastapi kaleido python-multipart uvicorn \"typing-extensions<4.6.0\""
      ]
    },
    {
      "cell_type": "code",
      "source": [
        "import autogen\n",
        "import openai\n",
        "\n",
        "openai.api_key = \"api-key\"\n",
        "config_list = [\n",
        "    {\n",
        "        \"model\": \"gpt-4\",\n",
        "    },\n",
        "]\n",
        "llm_config = {\n",
        "    \"seed\": 42,\n",
        "    \"config_list\": config_list\n",
        "}"
      ],
      "metadata": {
        "id": "_qwhyBqpg_nZ"
      },
      "execution_count": 4,
      "outputs": []
    },
    {
      "cell_type": "code",
      "source": [
        "import memgpt.autogen.memgpt_agent as memgpt_autogen\n",
        "import memgpt.autogen.interface as autogen_interface\n",
        "import memgpt.agent as agent\n",
        "import memgpt.system as system\n",
        "import memgpt.utils as utils\n",
        "import memgpt.presets.presets as presets\n",
        "import memgpt.constants as constants\n",
        "import memgpt.personas.personas as personas\n",
        "import memgpt.humans.humans as humans\n",
        "from memgpt.persistence_manager import InMemoryStateManager, InMemoryStateManagerWithPreloadedArchivalMemory, InMemoryStateManagerWithFaiss\n",
        "\n",
        "user_proxy = autogen.UserProxyAgent(\n",
        "    name = \"User_proxy\",\n",
        "    system_message = \"A human admin.\",\n",
        "    code_execution_config = {\n",
        "        \"last_n_messages\": 2,\n",
        "        \"work_dir\": \"groupchat\"\n",
        "    },\n",
        ")"
      ],
      "metadata": {
        "id": "GDSrS8smiJ7u"
      },
      "execution_count": 18,
      "outputs": []
    },
    {
      "cell_type": "code",
      "source": [
        "interface = autogen_interface.AutoGenInterface() # how MemGPT talks to AutoGen\n",
        "persistence_manager = InMemoryStateManager()\n",
        "persona = \"I\\'m a 10x engineer at a FAANG tech company.\"\n",
        "human = \"I\\'m a team manager at a FAANG tech company.\"\n",
        "memgpt_agent = presets.use_preset(presets.DEFAULT_PRESET, 'gpt-4', persona, human, interface, persistence_manager)"
      ],
      "metadata": {
        "id": "ZY6UGjLKiZWJ"
      },
      "execution_count": null,
      "outputs": []
    },
    {
      "cell_type": "code",
      "source": [
        "groupchat = autogen.GroupChat(agents=[user_proxy, coder, pm], messages=[], max_round=12)\n",
        "manager = autogen.GroupChatManager(groupchat=groupchat, llm_config=llm_config)\n",
        "\n",
        "user_proxy.initiate_chat(manager, message=\"First send the message 'Let's go Mario!'\")"
      ],
      "metadata": {
        "id": "bQlC8CJvRT9e"
      },
      "execution_count": null,
      "outputs": []
    }
  ]
}